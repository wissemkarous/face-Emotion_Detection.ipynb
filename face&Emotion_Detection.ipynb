{
  "nbformat": 4,
  "nbformat_minor": 0,
  "metadata": {
    "colab": {
      "provenance": [],
      "collapsed_sections": [
        "qj1x0pvficlb"
      ],
      "authorship_tag": "ABX9TyNI2jr9ZzM6qZIX/ADTVbDS",
      "include_colab_link": true
    },
    "kernelspec": {
      "name": "python3",
      "display_name": "Python 3"
    },
    "language_info": {
      "name": "python"
    },
    "accelerator": "GPU",
    "gpuClass": "standard"
  },
  "cells": [
    {
      "cell_type": "markdown",
      "metadata": {
        "id": "view-in-github",
        "colab_type": "text"
      },
      "source": [
        "<a href=\"https://colab.research.google.com/github/wissemkarous/face-Emotion_Detection.ipynb/blob/main/face%26Emotion_Detection.ipynb\" target=\"_parent\"><img src=\"https://colab.research.google.com/assets/colab-badge.svg\" alt=\"Open In Colab\"/></a>"
      ]
    },
    {
      "cell_type": "markdown",
      "source": [
        "# New Section"
      ],
      "metadata": {
        "id": "z21h8rVmjGHM"
      }
    },
    {
      "cell_type": "markdown",
      "source": [
        "Importing libraries\n"
      ],
      "metadata": {
        "id": "9-WJ_ykch_5O"
      }
    },
    {
      "cell_type": "code",
      "source": [
        "!pip install -q face_recognition\n",
        "!pip install -q fer\n",
        "\n",
        "#Facial and Expression Recognition\n",
        "import face_recognition\n",
        "from fer import FER \n",
        "\n",
        "#Plotting libraries\n",
        "import matplotlib.pyplot as plt\n",
        "import seaborn as sns\n",
        "from matplotlib.pyplot import imshow\n",
        "import matplotlib.patches as patches\n",
        "%matplotlib inline\n",
        "\n",
        "#Python Imaging Library\n",
        "import PIL.Image \n",
        "\n",
        "#To compute execution times\n",
        "import time"
      ],
      "metadata": {
        "id": "q7ruf5NaiM53"
      },
      "execution_count": null,
      "outputs": []
    },
    {
      "cell_type": "markdown",
      "source": [
        "Code-Snippet allowing Google Colab to take a Camera Capture"
      ],
      "metadata": {
        "id": "qj1x0pvficlb"
      }
    },
    {
      "cell_type": "code",
      "source": [
        "from IPython.display import display, Javascript\n",
        "from google.colab.output import eval_js\n",
        "from base64 import b64decode\n",
        "\n",
        "def take_photo(filename='photo.jpg', quality=0.8):\n",
        "  js = Javascript('''\n",
        "    async function takePhoto(quality) {\n",
        "      const div = document.createElement('div');\n",
        "      const capture = document.createElement('button');\n",
        "      capture.textContent = 'Capture';\n",
        "      div.appendChild(capture);\n",
        "\n",
        "      const video = document.createElement('video');\n",
        "      video.style.display = 'block';\n",
        "      const stream = await navigator.mediaDevices.getUserMedia({video: true});\n",
        "\n",
        "      document.body.appendChild(div);\n",
        "      div.appendChild(video);\n",
        "      video.srcObject = stream;\n",
        "      await video.play();\n",
        "\n",
        "      // Resize the output to fit the video element.\n",
        "      google.colab.output.setIframeHeight(document.documentElement.scrollHeight, true);\n",
        "\n",
        "      // Wait for Capture to be clicked.\n",
        "      await new Promise((resolve) => capture.onclick = resolve);\n",
        "\n",
        "      const canvas = document.createElement('canvas');\n",
        "      canvas.width = video.videoWidth;\n",
        "      canvas.height = video.videoHeight;\n",
        "      canvas.getContext('2d').drawImage(video, 0, 0);\n",
        "      stream.getVideoTracks()[0].stop();\n",
        "      div.remove();\n",
        "      return canvas.toDataURL('image/jpeg', quality);\n",
        "    }\n",
        "    ''')\n",
        "  display(js)\n",
        "  data = eval_js('takePhoto({})'.format(quality))\n",
        "  binary = b64decode(data.split(',')[1])\n",
        "  with open(filename, 'wb') as f:\n",
        "    f.write(binary)\n",
        "  return filename"
      ],
      "metadata": {
        "id": "7_nneya6iU0F"
      },
      "execution_count": null,
      "outputs": []
    },
    {
      "cell_type": "markdown",
      "source": [
        "### Take a photo from webcam"
      ],
      "metadata": {
        "id": "1a92qYPcjKIu"
      }
    },
    {
      "cell_type": "code",
      "source": [
        "from IPython.display import Image\n",
        "\n",
        "try:\n",
        "  photo = take_photo()\n",
        "  print('Saved to {}'.format(photo))\n",
        "  \n",
        "  # Show the image which was just taken.\n",
        "  display(Image(photo))\n",
        "except Exception as err:\n",
        "  # Errors will be thrown if the user does not have a webcam or if they do not\n",
        "  # grant the page permission to access it.\n",
        "  print(str(err))"
      ],
      "metadata": {
        "id": "EOUK7BusjSp0"
      },
      "execution_count": null,
      "outputs": []
    },
    {
      "cell_type": "markdown",
      "source": [
        "### Load and display image"
      ],
      "metadata": {
        "id": "RNbX_RW9jfB4"
      }
    },
    {
      "cell_type": "code",
      "source": [
        "image = face_recognition.load_image_file(photo)\n",
        "im = PIL.Image.open(photo)\n",
        "fig=plt.subplots()\n",
        "imshow(im)"
      ],
      "metadata": {
        "id": "A_tSfYuOjjrV"
      },
      "execution_count": null,
      "outputs": []
    },
    {
      "cell_type": "markdown",
      "source": [
        "### Face detection"
      ],
      "metadata": {
        "id": "Ttjb-JXykN2m"
      }
    },
    {
      "cell_type": "code",
      "source": [
        "#starting time\n",
        "start = time.time()\n",
        "\n",
        "#retrieve all faces locations on picture\n",
        "face_locations = face_recognition.face_locations(image, model=\"CNN\")\n",
        "\n",
        "fig,ax = plt.subplots()\n",
        "\n",
        "#loop on number of faces in the picture\n",
        "for face_location in face_locations:\n",
        "\n",
        "    #retrieve face locations\n",
        "    top, right, bottom, left = face_location \n",
        "    ax.imshow(im)\n",
        "\n",
        "    #framing the face\n",
        "    rect = patches.Rectangle((left,top), (right-left), (bottom-top), \\\n",
        "                              linewidth=3,edgecolor='r',facecolor='none')\n",
        "    ax.add_patch(rect)\n",
        "\n",
        "#ending time\n",
        "end = time.time()\n",
        "\n",
        "print(\"Nb of faces:\", len(face_locations))\n",
        "print(\"Time taken:\", round(end-start,2), \"s\")"
      ],
      "metadata": {
        "id": "GA1grcQskR0M"
      },
      "execution_count": null,
      "outputs": []
    },
    {
      "cell_type": "markdown",
      "source": [
        "### Emotion detection"
      ],
      "metadata": {
        "id": "QJenehNjkWtP"
      }
    },
    {
      "cell_type": "code",
      "source": [
        "detector = FER(mtcnn=True) #using accurate MTCNN network"
      ],
      "metadata": {
        "id": "QroQMfvtkcj_"
      },
      "execution_count": null,
      "outputs": []
    },
    {
      "cell_type": "code",
      "source": [
        "#starting time\n",
        "start = time.time()\n",
        "\n",
        "#retrieve face locations on picture\n",
        "face_locations = face_recognition.face_locations(image, model=\"CNN\")\n",
        "\n",
        "fig, ax = plt.subplots()\n",
        "\n",
        "#loop on number of faces\n",
        "for face_location in face_locations:\n",
        "\n",
        "    #retrieve face location\n",
        "    top, right, bottom, left = face_location\n",
        "\n",
        "    ax.imshow(im)\n",
        "\n",
        "    #framing the face\n",
        "    rect = patches.Rectangle((left,top), (right-left), (bottom-top), \\\n",
        "                             linewidth=3, edgecolor='r', facecolor='none')\n",
        "    ax.add_patch(rect)\n",
        "    face_image = image[top:bottom, left:right]\n",
        "\n",
        "    #getting emotions using FER library\n",
        "    emotions = detector.detect_emotions(face_image)\n",
        "    emotion, score = detector.top_emotion(face_image)\n",
        "    plt.text(left, top, emotion, fontsize=8, bbox=dict(fill=True, edgecolor='blue', linewidth=1))\n",
        "\n",
        "#ending time\n",
        "end = time.time()\n",
        "plt.show()\n",
        "\n",
        "#creating emotion scores barplot\n",
        "plt.figure()\n",
        "plt.title(\"Emotion scores\")\n",
        "keys = list(emotions[0][\"emotions\"].keys())\n",
        "vals = list(emotions[0][\"emotions\"].values())\n",
        "sns.barplot(x=keys, y=vals)\n",
        "plt.show()\n",
        "\n",
        "\n",
        "print(\"Top emotion:\", emotion)\n",
        "print(\"Score:\", score)\n",
        "print(\"Nb of faces:\",len(face_locations))\n",
        "print(\"Time taken:\", round(end-start, 2) ,\"s\")"
      ],
      "metadata": {
        "id": "gftopX9dkgEk"
      },
      "execution_count": null,
      "outputs": []
    }
  ]
}